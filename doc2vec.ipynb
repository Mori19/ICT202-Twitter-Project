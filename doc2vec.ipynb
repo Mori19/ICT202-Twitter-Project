{
 "cells": [
  {
   "cell_type": "code",
   "execution_count": 2,
   "id": "c697d2c4",
   "metadata": {},
   "outputs": [],
   "source": [
    "import pandas as pd\n",
    "from gensim.models.doc2vec import TaggedDocument\n",
    "from gensim.models.doc2vec import Doc2Vec"
   ]
  },
  {
   "cell_type": "markdown",
   "id": "3c9b3202",
   "metadata": {},
   "source": [
    "## Chose how many docs you want here; \n",
    "\n",
    "It didnt matter for me, there was always a blob and no clear clusters"
   ]
  },
  {
   "cell_type": "code",
   "execution_count": 83,
   "id": "107af4d8",
   "metadata": {},
   "outputs": [],
   "source": [
    "docs = pd.read_json('post_process_data.json')['content']\n",
    "docs = [doc.split() for doc in docs]\n",
    "docs = docs[:100]"
   ]
  },
  {
   "cell_type": "code",
   "execution_count": 84,
   "id": "b4820659",
   "metadata": {},
   "outputs": [],
   "source": [
    "def tag(doc_list):\n",
    "    for i, doc in enumerate(doc_list):\n",
    "        yield TaggedDocument(doc, [i])\n",
    "tagged_docs = list(tag(docs))"
   ]
  },
  {
   "cell_type": "code",
   "execution_count": 52,
   "id": "7393e3b8",
   "metadata": {},
   "outputs": [
    {
     "data": {
      "text/plain": [
       "list"
      ]
     },
     "execution_count": 52,
     "metadata": {},
     "output_type": "execute_result"
    }
   ],
   "source": [
    "type(tagged_docs)"
   ]
  },
  {
   "cell_type": "code",
   "execution_count": 86,
   "id": "14e2ad0a",
   "metadata": {},
   "outputs": [],
   "source": [
    "model = Doc2Vec(vector_size=50, min_count=5, epochs=40)\n",
    "model.build_vocab(tagged_docs)"
   ]
  },
  {
   "cell_type": "code",
   "execution_count": 88,
   "id": "ee07b962",
   "metadata": {},
   "outputs": [],
   "source": [
    "model.train(tagged_docs, total_examples=model.corpus_count, epochs=model.epochs)"
   ]
  },
  {
   "cell_type": "code",
   "execution_count": 89,
   "id": "54ceed6d",
   "metadata": {},
   "outputs": [],
   "source": [
    "X = model.dv[range(len(model.dv))]"
   ]
  },
  {
   "cell_type": "code",
   "execution_count": 90,
   "id": "5804219e",
   "metadata": {},
   "outputs": [],
   "source": [
    "from sklearn.decomposition import PCA\n",
    "import matplotlib.pyplot as plt\n",
    "pca = PCA(n_components=2)\n",
    "\n",
    "result = pca.fit_transform(X)\n",
    "\n",
    "pca_df = pd.DataFrame(result, columns = ['x','y'])\n",
    "#pca_df['doc'] = list(model.dv.key_to_index.keys())"
   ]
  },
  {
   "cell_type": "code",
   "execution_count": 91,
   "id": "64c243d5",
   "metadata": {},
   "outputs": [
    {
     "data": {
      "text/html": [
       "<div>\n",
       "<style scoped>\n",
       "    .dataframe tbody tr th:only-of-type {\n",
       "        vertical-align: middle;\n",
       "    }\n",
       "\n",
       "    .dataframe tbody tr th {\n",
       "        vertical-align: top;\n",
       "    }\n",
       "\n",
       "    .dataframe thead th {\n",
       "        text-align: right;\n",
       "    }\n",
       "</style>\n",
       "<table border=\"1\" class=\"dataframe\">\n",
       "  <thead>\n",
       "    <tr style=\"text-align: right;\">\n",
       "      <th></th>\n",
       "      <th>x</th>\n",
       "      <th>y</th>\n",
       "    </tr>\n",
       "  </thead>\n",
       "  <tbody>\n",
       "    <tr>\n",
       "      <th>0</th>\n",
       "      <td>0.016016</td>\n",
       "      <td>0.007472</td>\n",
       "    </tr>\n",
       "    <tr>\n",
       "      <th>1</th>\n",
       "      <td>0.005742</td>\n",
       "      <td>-0.010489</td>\n",
       "    </tr>\n",
       "    <tr>\n",
       "      <th>2</th>\n",
       "      <td>-0.007172</td>\n",
       "      <td>-0.009885</td>\n",
       "    </tr>\n",
       "    <tr>\n",
       "      <th>3</th>\n",
       "      <td>-0.020163</td>\n",
       "      <td>0.001631</td>\n",
       "    </tr>\n",
       "    <tr>\n",
       "      <th>4</th>\n",
       "      <td>-0.006813</td>\n",
       "      <td>0.018229</td>\n",
       "    </tr>\n",
       "  </tbody>\n",
       "</table>\n",
       "</div>"
      ],
      "text/plain": [
       "          x         y\n",
       "0  0.016016  0.007472\n",
       "1  0.005742 -0.010489\n",
       "2 -0.007172 -0.009885\n",
       "3 -0.020163  0.001631\n",
       "4 -0.006813  0.018229"
      ]
     },
     "execution_count": 91,
     "metadata": {},
     "output_type": "execute_result"
    }
   ],
   "source": [
    "pca_df.head()"
   ]
  },
  {
   "cell_type": "code",
   "execution_count": 92,
   "id": "433edf5b",
   "metadata": {},
   "outputs": [
    {
     "data": {
      "image/png": "[encoded data removed]",
      "text/plain": [
       "<Figure size 432x288 with 1 Axes>"
      ]
     },
     "metadata": {
      "needs_background": "light"
     },
     "output_type": "display_data"
    }
   ],
   "source": [
    "plt.scatter(pca_df['x'], pca_df['y'])\n",
    "plt.show()"
   ]
  },
  {
   "cell_type": "markdown",
   "id": "9c8a01af",
   "metadata": {},
   "source": [
    "# Multiple Datasets"
   ]
  },
  {
   "cell_type": "code",
   "execution_count": 43,
   "id": "98089a5a",
   "metadata": {},
   "outputs": [],
   "source": [
    "docs = [doc.split() for doc in pd.read_json('post_process_data.json')['content']][:1000]\n",
    "docs.extend([doc.split() for doc in pd.read_json('ukraine_processed.json')['content']][:1000])\n",
    "docs.extend([doc.split() for doc in pd.read_json('monkeypox_processed.json')['content']][:1000])"
   ]
  },
  {
   "cell_type": "code",
   "execution_count": 44,
   "id": "56241b41",
   "metadata": {},
   "outputs": [
    {
     "data": {
      "text/plain": [
       "3000"
      ]
     },
     "execution_count": 44,
     "metadata": {},
     "output_type": "execute_result"
    }
   ],
   "source": [
    "len(docs)"
   ]
  },
  {
   "cell_type": "code",
   "execution_count": 45,
   "id": "6c6cbd33",
   "metadata": {},
   "outputs": [],
   "source": [
    "def tag(doc_list):\n",
    "    for i, doc in enumerate(doc_list):\n",
    "        yield TaggedDocument(doc, [i])\n",
    "tagged_docs = list(tag(docs))"
   ]
  },
  {
   "cell_type": "code",
   "execution_count": 46,
   "id": "2ed64f8d",
   "metadata": {},
   "outputs": [],
   "source": [
    "model = Doc2Vec(vector_size=50, min_count=5, epochs=40)\n",
    "model.build_vocab(tagged_docs)\n",
    "model.train(tagged_docs, total_examples=model.corpus_count, epochs=model.epochs)"
   ]
  },
  {
   "cell_type": "code",
   "execution_count": 47,
   "id": "7754d514",
   "metadata": {},
   "outputs": [],
   "source": [
    "X = model.dv[range(len(model.dv))]\n",
    "from sklearn.decomposition import PCA\n",
    "import matplotlib.pyplot as plt\n",
    "pca = PCA(n_components=2)\n",
    "\n",
    "result = pca.fit_transform(X)\n",
    "\n",
    "pca_df = pd.DataFrame(result, columns = ['x','y'])"
   ]
  },
  {
   "cell_type": "code",
   "execution_count": 51,
   "id": "b833fdb4",
   "metadata": {},
   "outputs": [
    {
     "data": {
      "image/png": "[encoded data removed]",
      "text/plain": [
       "<Figure size 432x288 with 1 Axes>"
      ]
     },
     "metadata": {
      "needs_background": "light"
     },
     "output_type": "display_data"
    }
   ],
   "source": [
    "topics = {'COVID-19':{'x':pca_df['x'][:1000],'y':pca_df['y'][:1000],'colour':'red'},\n",
    "         'Ukraine':{'x':pca_df['x'][1000:2000], 'y':pca_df['y'][1000:2000],'colour':'green'},\n",
    "         'Monkeypox':{'x':pca_df['x'][2000:], 'y':pca_df['y'][2000:],'colour':'blue'}\n",
    "         }\n",
    "\n",
    "fig, ax = plt.subplots()\n",
    "for topic in ['COVID-19', 'Ukraine', 'Monkeypox']:\n",
    "\n",
    "    ax.scatter(topics[topic]['x'], topics[topic]['y'], c=topics[topic]['colour'], label=topic,\n",
    "               alpha=0.03, edgecolors='none')\n",
    "\n",
    "ax.legend()\n",
    "plt.title('Distinct Topics measured by doc2vec')\n",
    "plt.show()"
   ]
  },
  {
   "cell_type": "code",
   "execution_count": null,
   "id": "6848157c",
   "metadata": {},
   "outputs": [],
   "source": []
  }
 ],
 "metadata": {
  "kernelspec": {
   "display_name": "Python 3 (ipykernel)",
   "language": "python",
   "name": "python3"
  },
  "language_info": {
   "codemirror_mode": {
    "name": "ipython",
    "version": 3
   },
   "file_extension": ".py",
   "mimetype": "text/x-python",
   "name": "python",
   "nbconvert_exporter": "python",
   "pygments_lexer": "ipython3",
   "version": "3.10.4"
  }
 },
 "nbformat": 4,
 "nbformat_minor": 5
}
