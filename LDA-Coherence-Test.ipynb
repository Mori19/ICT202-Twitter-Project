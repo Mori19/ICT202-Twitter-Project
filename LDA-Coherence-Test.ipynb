{
 "cells": [
  {
   "cell_type": "code",
   "execution_count": 1,
   "id": "d5adc3a7",
   "metadata": {},
   "outputs": [],
   "source": [
    "import pandas as pd\n"
   ]
  },
  {
   "cell_type": "code",
   "execution_count": 6,
   "id": "99291e75",
   "metadata": {},
   "outputs": [],
   "source": [
    "df = pd.read_json('test.json')\n",
    "docs = df['content'][:1000]"
   ]
  },
  {
   "cell_type": "code",
   "execution_count": 7,
   "id": "fbce5a7b",
   "metadata": {},
   "outputs": [
    {
     "data": {
      "text/plain": [
       "0        @ang__johnson I worked in nhs and there were l...\n",
       "1        @dann58638436 @ShockTraumaRN @Jaytee116James @...\n",
       "10       @Big_Rob_Mac @beverleyturner @thismorning Of c...\n",
       "100      @FederalFrank @KRNV Just as many vaccinated di...\n",
       "1000     @thevivafrei @CPHO_Canada She's crazy and shou...\n",
       "                               ...                        \n",
       "10893                 Lock them up https://t.co/LY8vN0fGSj\n",
       "10894    Please read this thread and keep wearing masks...\n",
       "10895    @rhonda_harbison @MarshaBlackburn @All100Senat...\n",
       "10896    https://t.co/1AA6VzObYj 100million doses of Ox...\n",
       "10897    @keithwadeallen @Massasplinter69 @Oregonian Yo...\n",
       "Name: content, Length: 1000, dtype: object"
      ]
     },
     "execution_count": 7,
     "metadata": {},
     "output_type": "execute_result"
    }
   ],
   "source": [
    "docs"
   ]
  },
  {
   "cell_type": "code",
   "execution_count": 4,
   "id": "e213a850",
   "metadata": {},
   "outputs": [],
   "source": [
    "from ICT_202_preprocessing import *\n",
    "def pipe(data):\n",
    "    a = get_processed_data(data)\n",
    "    #a,_ = tag_culler(a)\n",
    "    a = make_bigrams([doc.split() for doc in a])\n",
    "    a = make_bigrams(a)\n",
    "    a,_ = number_culler([' '.join(doc) for doc in a])\n",
    "    #a,_ = remove_stop(a)\n",
    "    a,_ = popular_word_culler(a)\n",
    "    return a\n",
    "\n"
   ]
  },
  {
   "cell_type": "code",
   "execution_count": 8,
   "id": "9fb4fc98",
   "metadata": {},
   "outputs": [],
   "source": [
    "docs = pipe(list(dict.fromkeys(docs)))\n",
    "docs = list(dict.fromkeys(docs))\n",
    "docs = [a for a in docs if len(a.split()) >5 and '_' not in a]"
   ]
  },
  {
   "cell_type": "code",
   "execution_count": 9,
   "id": "5ba9692c",
   "metadata": {},
   "outputs": [
    {
     "data": {
      "text/plain": [
       "['angjohnson worked nhs load job going vaccination centre convid contract 2 year far',\n",
       " 'dann58638436 shocktraumarn jaytee116james jameslynchgtc aspalaasnasntyr andylumm mcfunny djchicus richykirsh willard1951 fvckyourfear krebiozen provaxtexan jimeeliberty skepticalmutant jonathanhannah andrewlazarus4 tonybaduy doom37455413 msabouri volpiranyas ogilville1 alexona14 isthisnetaken premierimproves maloj tryingmypatient chimera414 itisjustmebabe waltertallen diar380 realshocks kath2cats 756elizabeth skepticalprune shocktraumanp kcgetaway7 randomurban wendyorent nockit1 pompiliamanda zaynjaffer plhartungrn raouldukeerik spoonsterboss1 piattpicks fannyi5 sammy44231 uofmaryland texastech youre guessing possibility vaccine cause dont even know covid hmmmm',\n",
       " 'bigrobmac beverleyturner thismorning course bev love dodgy doc',\n",
       " 'federalfrank krnv many vaccinated died dont fool',\n",
       " 'deborahw704 toniabuxton muschampprimary agreed also seasonal flu jab mother father took covid jab flu jab year mother lost lot weight waiting ct scan see whats wrong']"
      ]
     },
     "execution_count": 9,
     "metadata": {},
     "output_type": "execute_result"
    }
   ],
   "source": [
    "docs[:5]"
   ]
  },
  {
   "cell_type": "code",
   "execution_count": 10,
   "id": "b90220de",
   "metadata": {},
   "outputs": [],
   "source": [
    "import gensim \n",
    "import gensim.corpora as corpora\n",
    "from gensim.models import CoherenceModel\n",
    "from gensim.models.ldamodel import LdaModel"
   ]
  },
  {
   "cell_type": "code",
   "execution_count": 11,
   "id": "1c41e828",
   "metadata": {},
   "outputs": [],
   "source": [
    "docs = [doc.split() for doc in docs]"
   ]
  },
  {
   "cell_type": "code",
   "execution_count": 12,
   "id": "2479eea2",
   "metadata": {},
   "outputs": [],
   "source": [
    "id2word = corpora.Dictionary(docs)\n",
    "corpus = [id2word.doc2bow(text) for text in docs]"
   ]
  },
  {
   "cell_type": "code",
   "execution_count": 13,
   "id": "df9eebd6",
   "metadata": {},
   "outputs": [],
   "source": [
    "lda_model = LdaModel(corpus=corpus,\n",
    "                    id2word=id2word,\n",
    "                    num_topics=10,\n",
    "                    random_state=1,\n",
    "                    passes=10,)"
   ]
  },
  {
   "cell_type": "code",
   "execution_count": 14,
   "id": "cfaf5484",
   "metadata": {},
   "outputs": [],
   "source": [
    "from pprint import pprint"
   ]
  },
  {
   "cell_type": "code",
   "execution_count": 17,
   "id": "640a261d",
   "metadata": {},
   "outputs": [
    {
     "name": "stdout",
     "output_type": "stream",
     "text": [
      "[(0,\n",
      "  '0.013*\"vaccine\" + 0.011*\"covid\" + 0.011*\"vaccinated\" + 0.010*\"get\" + '\n",
      "  '0.009*\"going\" + 0.008*\"youre\" + 0.008*\"people\" + 0.006*\"virus\" + '\n",
      "  '0.005*\"like\" + 0.004*\"biden\"'),\n",
      " (1,\n",
      "  '0.024*\"covid\" + 0.016*\"vaccine\" + 0.011*\"people\" + 0.010*\"get\" + '\n",
      "  '0.007*\"many\" + 0.006*\"death\" + 0.006*\"vaccinated\" + 0.005*\"patient\" + '\n",
      "  '0.004*\"good\" + 0.004*\"dont\"'),\n",
      " (2,\n",
      "  '0.021*\"vaccine\" + 0.019*\"covid\" + 0.007*\"biden\" + 0.006*\"art\" + '\n",
      "  '0.005*\"long\" + 0.004*\"dont\" + 0.004*\"get\" + 0.004*\"many\" + 0.004*\"flu\" + '\n",
      "  '0.004*\"know\"'),\n",
      " (3,\n",
      "  '0.030*\"covid\" + 0.028*\"vaccine\" + 0.011*\"vaccinated\" + 0.008*\"getting\" + '\n",
      "  '0.007*\"know\" + 0.006*\"never\" + 0.005*\"got\" + 0.005*\"people\" + 0.005*\"even\" '\n",
      "  '+ 0.005*\"still\"'),\n",
      " (4,\n",
      "  '0.017*\"covid\" + 0.007*\"vaccinated\" + 0.006*\"vaccine\" + 0.006*\"people\" + '\n",
      "  '0.005*\"dont\" + 0.004*\"know\" + 0.004*\"jab\" + 0.004*\"time\" + 0.004*\"risk\" + '\n",
      "  '0.003*\"died\"'),\n",
      " (5,\n",
      "  '0.013*\"people\" + 0.008*\"vaccine\" + 0.007*\"covid\" + 0.006*\"death\" + '\n",
      "  '0.006*\"vaccinated\" + 0.005*\"life\" + 0.005*\"covid19\" + 0.004*\"data\" + '\n",
      "  '0.004*\"got\" + 0.004*\"still\"'),\n",
      " (6,\n",
      "  '0.026*\"vaccine\" + 0.017*\"covid\" + 0.009*\"death\" + 0.009*\"people\" + '\n",
      "  '0.008*\"vaccinated\" + 0.006*\"u\" + 0.006*\"many\" + 0.006*\"potus\" + '\n",
      "  '0.005*\"biden\" + 0.005*\"died\"'),\n",
      " (7,\n",
      "  '0.029*\"vaccine\" + 0.020*\"covid\" + 0.008*\"vaccination\" + 0.007*\"vaccinated\" '\n",
      "  '+ 0.007*\"covid19\" + 0.007*\"booster\" + 0.006*\"get\" + 0.006*\"one\" + '\n",
      "  '0.006*\"pandemic\" + 0.005*\"people\"'),\n",
      " (8,\n",
      "  '0.015*\"people\" + 0.015*\"get\" + 0.014*\"vaccine\" + 0.013*\"covid\" + '\n",
      "  '0.009*\"still\" + 0.006*\"dont\" + 0.006*\"covid19\" + 0.004*\"make\" + '\n",
      "  '0.004*\"virus\" + 0.004*\"wave\"'),\n",
      " (9,\n",
      "  '0.023*\"covid\" + 0.015*\"vaccine\" + 0.015*\"vaccination\" + 0.006*\"covid19\" + '\n",
      "  '0.006*\"get\" + 0.005*\"trump\" + 0.005*\"time\" + 0.005*\"havent\" + 0.004*\"good\" '\n",
      "  '+ 0.004*\"much\"')]\n"
     ]
    }
   ],
   "source": [
    "pprint(lda_model.print_topics())"
   ]
  },
  {
   "cell_type": "code",
   "execution_count": 19,
   "id": "88794dd0",
   "metadata": {},
   "outputs": [
    {
     "name": "stdout",
     "output_type": "stream",
     "text": [
      "\n",
      "Perplexity:  -8.300218190045099\n",
      "\n",
      "Coherence Score:  0.3020143103260095\n"
     ]
    }
   ],
   "source": [
    "print('\\nPerplexity: ', lda_model.log_perplexity(corpus))\n",
    "coherence_model = CoherenceModel(model=lda_model, texts=docs, dictionary=id2word, coherence='c_v')\n",
    "print('\\nCoherence Score: ', coherence_model.get_coherence())"
   ]
  },
  {
   "cell_type": "code",
   "execution_count": null,
   "id": "91a81a05",
   "metadata": {},
   "outputs": [],
   "source": []
  }
 ],
 "metadata": {
  "kernelspec": {
   "display_name": "Python 3 (ipykernel)",
   "language": "python",
   "name": "python3"
  },
  "language_info": {
   "codemirror_mode": {
    "name": "ipython",
    "version": 3
   },
   "file_extension": ".py",
   "mimetype": "text/x-python",
   "name": "python",
   "nbconvert_exporter": "python",
   "pygments_lexer": "ipython3",
   "version": "3.10.2"
  }
 },
 "nbformat": 4,
 "nbformat_minor": 5
}
