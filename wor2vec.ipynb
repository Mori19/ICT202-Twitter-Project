{
 "cells": [
  {
   "cell_type": "code",
   "execution_count": 1,
   "id": "d5a982b5",
   "metadata": {},
   "outputs": [],
   "source": [
    "from gensim.models import Word2Vec\n",
    "import pandas as pd\n",
    "from sklearn.feature_extraction.text import CountVectorizer\n",
    "import numpy as np\n",
    "from collections import Counter\n",
    "from ICT_202_preprocessing import *"
   ]
  },
  {
   "cell_type": "code",
   "execution_count": 2,
   "id": "2178730c",
   "metadata": {},
   "outputs": [],
   "source": [
    "df = pd.read_json('full_data_lemmatised.json')\n",
    "docs = [doc.split() for doc in df['content']]"
   ]
  },
  {
   "cell_type": "code",
   "execution_count": 3,
   "id": "9db62d93",
   "metadata": {},
   "outputs": [],
   "source": [
    "model = Word2Vec(sentences=docs, vector_size=100, window=5, min_count=1, workers=4)"
   ]
  },
  {
   "cell_type": "code",
   "execution_count": 13,
   "id": "b86c6e30",
   "metadata": {},
   "outputs": [
    {
     "ename": "TypeError",
     "evalue": "unhashable type: 'list'",
     "output_type": "error",
     "traceback": [
      "\u001b[0;31m---------------------------------------------------------------------------\u001b[0m",
      "\u001b[0;31mTypeError\u001b[0m                                 Traceback (most recent call last)",
      "Input \u001b[0;32mIn [13]\u001b[0m, in \u001b[0;36m<cell line: 1>\u001b[0;34m()\u001b[0m\n\u001b[0;32m----> 1\u001b[0m \u001b[43mCounter\u001b[49m\u001b[43m(\u001b[49m\u001b[43mdocs\u001b[49m\u001b[43m)\u001b[49m\u001b[38;5;241m.\u001b[39mmost_common(\u001b[38;5;241m20\u001b[39m)\n",
      "File \u001b[0;32m/usr/lib/python3.10/collections/__init__.py:577\u001b[0m, in \u001b[0;36mCounter.__init__\u001b[0;34m(self, iterable, **kwds)\u001b[0m\n\u001b[1;32m    566\u001b[0m \u001b[38;5;124;03m'''Create a new, empty Counter object.  And if given, count elements\u001b[39;00m\n\u001b[1;32m    567\u001b[0m \u001b[38;5;124;03mfrom an input iterable.  Or, initialize the count from another mapping\u001b[39;00m\n\u001b[1;32m    568\u001b[0m \u001b[38;5;124;03mof elements to their counts.\u001b[39;00m\n\u001b[0;32m   (...)\u001b[0m\n\u001b[1;32m    574\u001b[0m \n\u001b[1;32m    575\u001b[0m \u001b[38;5;124;03m'''\u001b[39;00m\n\u001b[1;32m    576\u001b[0m \u001b[38;5;28msuper\u001b[39m()\u001b[38;5;241m.\u001b[39m\u001b[38;5;21m__init__\u001b[39m()\n\u001b[0;32m--> 577\u001b[0m \u001b[38;5;28;43mself\u001b[39;49m\u001b[38;5;241;43m.\u001b[39;49m\u001b[43mupdate\u001b[49m\u001b[43m(\u001b[49m\u001b[43miterable\u001b[49m\u001b[43m,\u001b[49m\u001b[43m \u001b[49m\u001b[38;5;241;43m*\u001b[39;49m\u001b[38;5;241;43m*\u001b[39;49m\u001b[43mkwds\u001b[49m\u001b[43m)\u001b[49m\n",
      "File \u001b[0;32m/usr/lib/python3.10/collections/__init__.py:670\u001b[0m, in \u001b[0;36mCounter.update\u001b[0;34m(self, iterable, **kwds)\u001b[0m\n\u001b[1;32m    668\u001b[0m             \u001b[38;5;28msuper\u001b[39m()\u001b[38;5;241m.\u001b[39mupdate(iterable)\n\u001b[1;32m    669\u001b[0m     \u001b[38;5;28;01melse\u001b[39;00m:\n\u001b[0;32m--> 670\u001b[0m         \u001b[43m_count_elements\u001b[49m\u001b[43m(\u001b[49m\u001b[38;5;28;43mself\u001b[39;49m\u001b[43m,\u001b[49m\u001b[43m \u001b[49m\u001b[43miterable\u001b[49m\u001b[43m)\u001b[49m\n\u001b[1;32m    671\u001b[0m \u001b[38;5;28;01mif\u001b[39;00m kwds:\n\u001b[1;32m    672\u001b[0m     \u001b[38;5;28mself\u001b[39m\u001b[38;5;241m.\u001b[39mupdate(kwds)\n",
      "\u001b[0;31mTypeError\u001b[0m: unhashable type: 'list'"
     ]
    }
   ],
   "source": [
    "Counter(docs).most_common(20) # I edited this bit here after it was working and made it not work "
   ]
  },
  {
   "cell_type": "code",
   "execution_count": 90,
   "id": "a76c3881",
   "metadata": {
    "scrolled": false
   },
   "outputs": [
    {
     "name": "stdout",
     "output_type": "stream",
     "text": [
      "vaccine\n",
      "vax, jab, injection, vaccination, shot, vaxx, treatment, long, which, infection\n",
      "covid\n",
      "even, covid19, disease, it, virus, then, treatment, knowingly, while, and\n",
      "I\n",
      "never, sure, just, everyone, ve, ill, ever, you, she, yes\n",
      "get\n",
      "catch, pass, take, contract, give, while, or, leave, but, yet\n",
      "people\n",
      "ppl, those, person, folk, everyone, kid, americans, someone, elderly, unvaccinated\n",
      "vaccinate\n",
      "vaxxed, vaxxe, infect, vaccinated, vaxe, sick, unvaccinated, unvaxxed, vaxd, vaccinatedand\n",
      "covid19\n",
      "covid, pregnancy, prior, drive, biontechpfizer, available, babys, offer, status, benefit\n",
      "vaccination\n",
      "testing, infection, vaccine, protection, vax, jab, antibody, future, travel, lockdown\n",
      "death\n",
      "case, number, occur, mortality, quarter, unvaccinate, 01, vast, vaccinated, low\n",
      "say\n",
      "admit, claim, tell, see, think, mean, mention, believe, prove, happen\n",
      "take\n",
      "get, leave, pass, give, force, without, want, accept, inject, refuse\n",
      "know\n",
      "think, see, mean, tell, believe, understand, realize, have, mention, wonder\n",
      "go\n",
      "try, pass, start, come, back, normal, turn, just, end, right\n",
      "one\n",
      "person, way, kid, yet, people, jab, thing, those, but, everyone\n",
      "amp\n",
      "and, while, despite, etc, mandate, against, nowand, fight, avoid, include\n",
      "die\n",
      "suffer, kill, dead, infect, contract, americans, recover, death, unvaccinated, hospitalize\n",
      "still\n",
      "yet, also, never, now, while, again, only, not, already, then\n",
      "like\n",
      "really, maybe, seem, just, literally, thing, else, actually, think, around\n",
      "mask\n",
      "onebut, seatbelt, 1970, facemask, madks, costume, lime, promiscuity, maskjust, diaper\n",
      "would\n",
      "could, might, do, will, even, actually, yet, d, probably, enough\n"
     ]
    }
   ],
   "source": [
    "for word in [doc[0] for doc in Counter(pipe([docs2])[0].split()).most_common(20)]:\n",
    "    print(word)\n",
    "    print(', '.join([term[0] for term in model.wv.most_similar(word)]))"
   ]
  },
  {
   "cell_type": "code",
   "execution_count": 11,
   "id": "3ccdd389",
   "metadata": {},
   "outputs": [
    {
     "data": {
      "text/plain": [
       "[('document', 0.9389965534210205),\n",
       " ('release', 0.9244369268417358),\n",
       " ('doc', 0.8914285898208618),\n",
       " ('trial', 0.8900941014289856),\n",
       " ('95', 0.8750494718551636),\n",
       " ('effective', 0.8646969795227051),\n",
       " ('phizer', 0.8641158938407898),\n",
       " ('fda', 0.8639872670173645),\n",
       " ('study', 0.8626492023468018),\n",
       " ('jabinduce', 0.8618476986885071),\n",
       " ('exonerate', 0.8604724407196045),\n",
       " ('dump', 0.8580099940299988),\n",
       " ('datum', 0.8502120971679688),\n",
       " ('mrna', 0.8445207476615906),\n",
       " ('peruse', 0.8422074317932129),\n",
       " ('documentation', 0.8373411297798157),\n",
       " ('confidential', 0.8371465802192688),\n",
       " ('beast', 0.8371453285217285),\n",
       " ('reaction', 0.8358897566795349),\n",
       " ('pfizerdocument', 0.8340529799461365)]"
      ]
     },
     "execution_count": 11,
     "metadata": {},
     "output_type": "execute_result"
    }
   ],
   "source": [
    "model.wv.most_similar('pfizer',topn=20)"
   ]
  },
  {
   "cell_type": "code",
   "execution_count": 88,
   "id": "74ae0dbc",
   "metadata": {},
   "outputs": [
    {
     "data": {
      "text/plain": [
       "['even',\n",
       " 'covid19',\n",
       " 'disease',\n",
       " 'it',\n",
       " 'virus',\n",
       " 'then',\n",
       " 'treatment',\n",
       " 'knowingly',\n",
       " 'while',\n",
       " 'and']"
      ]
     },
     "execution_count": 88,
     "metadata": {},
     "output_type": "execute_result"
    }
   ],
   "source": [
    "[term[0] for term in model.wv.most_similar('covid')]"
   ]
  },
  {
   "cell_type": "code",
   "execution_count": 101,
   "id": "cfea7697",
   "metadata": {},
   "outputs": [
    {
     "data": {
      "text/plain": [
       "['@realcandaceo',\n",
       " '@nathaliejacoby1',\n",
       " '@therealrhllor',\n",
       " '@whitehouse',\n",
       " '@sentedcruz',\n",
       " '@potus',\n",
       " '@repvaldemings',\n",
       " '@thrasherxy',\n",
       " '@justintrudeau',\n",
       " '@bucksexton',\n",
       " '@leovaradkar',\n",
       " '@dfisman',\n",
       " '@ap',\n",
       " '@houstonchron',\n",
       " '@bogochisaac',\n",
       " '@backtolife2022',\n",
       " '@kreekcraft',\n",
       " '@vp',\n",
       " '@foxnews',\n",
       " '@caylajharris']"
      ]
     },
     "execution_count": 101,
     "metadata": {},
     "output_type": "execute_result"
    }
   ],
   "source": [
    "[term[0] for term in Counter(re.findall(r'@\\w+',docs2)).most_common(20)]"
   ]
  },
  {
   "cell_type": "code",
   "execution_count": 117,
   "id": "246c3674",
   "metadata": {},
   "outputs": [],
   "source": [
    "def pipe2(data):\n",
    "    a = make_bigrams(data)\n",
    "    a = make_bigrams(a)\n",
    "    a,_ = number_culler([' '.join(doc) for doc in a])\n",
    "    a,_ = tag_culler(a)\n",
    "    return a"
   ]
  },
  {
   "cell_type": "code",
   "execution_count": 129,
   "id": "1b975e53",
   "metadata": {},
   "outputs": [],
   "source": [
    "docs4 = [' '.join(doc.split()) for doc in pipe2(docs)]"
   ]
  },
  {
   "cell_type": "code",
   "execution_count": 122,
   "id": "1a9b5b8c",
   "metadata": {},
   "outputs": [],
   "source": [
    "pd.DataFrame([' '.join(doc.split()) for doc in pipe2(docs)],columns=['content']).to_json('post_process_data.json')"
   ]
  },
  {
   "cell_type": "code",
   "execution_count": 131,
   "id": "3d4f9f8a",
   "metadata": {},
   "outputs": [],
   "source": [
    "docs5 = [doc for doc in docs4 if len(doc) >3 or '_' in doc]"
   ]
  },
  {
   "cell_type": "code",
   "execution_count": 133,
   "id": "462e8111",
   "metadata": {},
   "outputs": [
    {
     "data": {
      "text/plain": [
       "32602"
      ]
     },
     "execution_count": 133,
     "metadata": {},
     "output_type": "execute_result"
    }
   ],
   "source": [
    "len(docs5)"
   ]
  },
  {
   "cell_type": "code",
   "execution_count": 134,
   "id": "4724ebcd",
   "metadata": {},
   "outputs": [],
   "source": [
    "pd.DataFrame(docs5,columns=['content']).to_json('post_process_data.json')"
   ]
  },
  {
   "cell_type": "code",
   "execution_count": 138,
   "id": "7f1c8d11",
   "metadata": {
    "scrolled": false
   },
   "outputs": [
    {
     "data": {
      "text/plain": [
       "[('ignorant', 0.9948082566261292),\n",
       " ('responsibility', 0.9918755888938904),\n",
       " ('oppose', 0.9917954802513123),\n",
       " ('stand', 0.9908318519592285),\n",
       " ('excuse', 0.9905350804328918),\n",
       " ('ridiculous', 0.9890947937965393),\n",
       " ('power', 0.9888625741004944),\n",
       " ('ability', 0.9882678985595703),\n",
       " ('play', 0.9880475401878357),\n",
       " ('evil', 0.9878570437431335)]"
      ]
     },
     "execution_count": 138,
     "metadata": {},
     "output_type": "execute_result"
    }
   ],
   "source": [
    "model.wv.most_similar('politician')"
   ]
  },
  {
   "cell_type": "code",
   "execution_count": 142,
   "id": "0e2d8cbd",
   "metadata": {},
   "outputs": [],
   "source": [
    "X = model.wv[model.wv.key_to_index]"
   ]
  },
  {
   "cell_type": "code",
   "execution_count": 157,
   "id": "f2355536",
   "metadata": {},
   "outputs": [],
   "source": [
    "from sklearn.decomposition import PCA\n",
    "import matplotlib.pyplot as plt\n",
    "pca = PCA(n_components=2)\n",
    "\n",
    "result = pca.fit_transform(X)\n",
    "\n",
    "pca_df = pd.DataFrame(result, columns = ['x','y'])\n",
    "pca_df['word'] = list(model.wv.key_to_index.keys())\n"
   ]
  },
  {
   "cell_type": "code",
   "execution_count": 164,
   "id": "40f2ee02",
   "metadata": {},
   "outputs": [
    {
     "data": {
      "text/html": [
       "<div>\n",
       "<style scoped>\n",
       "    .dataframe tbody tr th:only-of-type {\n",
       "        vertical-align: middle;\n",
       "    }\n",
       "\n",
       "    .dataframe tbody tr th {\n",
       "        vertical-align: top;\n",
       "    }\n",
       "\n",
       "    .dataframe thead th {\n",
       "        text-align: right;\n",
       "    }\n",
       "</style>\n",
       "<table border=\"1\" class=\"dataframe\">\n",
       "  <thead>\n",
       "    <tr style=\"text-align: right;\">\n",
       "      <th></th>\n",
       "      <th>x</th>\n",
       "      <th>y</th>\n",
       "      <th>word</th>\n",
       "    </tr>\n",
       "  </thead>\n",
       "  <tbody>\n",
       "    <tr>\n",
       "      <th>0</th>\n",
       "      <td>7.491768</td>\n",
       "      <td>2.803157</td>\n",
       "      <td>vaccine</td>\n",
       "    </tr>\n",
       "    <tr>\n",
       "      <th>1</th>\n",
       "      <td>7.572359</td>\n",
       "      <td>3.883797</td>\n",
       "      <td>covid</td>\n",
       "    </tr>\n",
       "    <tr>\n",
       "      <th>2</th>\n",
       "      <td>6.973493</td>\n",
       "      <td>3.772693</td>\n",
       "      <td>I</td>\n",
       "    </tr>\n",
       "    <tr>\n",
       "      <th>3</th>\n",
       "      <td>7.841083</td>\n",
       "      <td>4.576263</td>\n",
       "      <td>get</td>\n",
       "    </tr>\n",
       "    <tr>\n",
       "      <th>4</th>\n",
       "      <td>7.428273</td>\n",
       "      <td>4.106063</td>\n",
       "      <td>people</td>\n",
       "    </tr>\n",
       "    <tr>\n",
       "      <th>5</th>\n",
       "      <td>7.932818</td>\n",
       "      <td>4.690097</td>\n",
       "      <td>vaccinate</td>\n",
       "    </tr>\n",
       "    <tr>\n",
       "      <th>6</th>\n",
       "      <td>7.850732</td>\n",
       "      <td>0.905860</td>\n",
       "      <td>covid19</td>\n",
       "    </tr>\n",
       "    <tr>\n",
       "      <th>7</th>\n",
       "      <td>7.721835</td>\n",
       "      <td>2.067945</td>\n",
       "      <td>vaccination</td>\n",
       "    </tr>\n",
       "    <tr>\n",
       "      <th>8</th>\n",
       "      <td>8.780031</td>\n",
       "      <td>2.476595</td>\n",
       "      <td>death</td>\n",
       "    </tr>\n",
       "    <tr>\n",
       "      <th>9</th>\n",
       "      <td>6.199559</td>\n",
       "      <td>2.122953</td>\n",
       "      <td>say</td>\n",
       "    </tr>\n",
       "    <tr>\n",
       "      <th>10</th>\n",
       "      <td>7.812117</td>\n",
       "      <td>3.066058</td>\n",
       "      <td>take</td>\n",
       "    </tr>\n",
       "    <tr>\n",
       "      <th>11</th>\n",
       "      <td>6.852992</td>\n",
       "      <td>3.387032</td>\n",
       "      <td>know</td>\n",
       "    </tr>\n",
       "    <tr>\n",
       "      <th>12</th>\n",
       "      <td>6.296440</td>\n",
       "      <td>2.891533</td>\n",
       "      <td>go</td>\n",
       "    </tr>\n",
       "    <tr>\n",
       "      <th>13</th>\n",
       "      <td>6.381629</td>\n",
       "      <td>3.275604</td>\n",
       "      <td>one</td>\n",
       "    </tr>\n",
       "    <tr>\n",
       "      <th>14</th>\n",
       "      <td>6.239661</td>\n",
       "      <td>2.118255</td>\n",
       "      <td>amp</td>\n",
       "    </tr>\n",
       "    <tr>\n",
       "      <th>15</th>\n",
       "      <td>8.400916</td>\n",
       "      <td>4.427674</td>\n",
       "      <td>die</td>\n",
       "    </tr>\n",
       "    <tr>\n",
       "      <th>16</th>\n",
       "      <td>7.448283</td>\n",
       "      <td>4.277155</td>\n",
       "      <td>still</td>\n",
       "    </tr>\n",
       "    <tr>\n",
       "      <th>17</th>\n",
       "      <td>6.480803</td>\n",
       "      <td>2.525478</td>\n",
       "      <td>like</td>\n",
       "    </tr>\n",
       "    <tr>\n",
       "      <th>18</th>\n",
       "      <td>8.423186</td>\n",
       "      <td>4.167449</td>\n",
       "      <td>mask</td>\n",
       "    </tr>\n",
       "    <tr>\n",
       "      <th>19</th>\n",
       "      <td>6.762319</td>\n",
       "      <td>3.419173</td>\n",
       "      <td>would</td>\n",
       "    </tr>\n",
       "  </tbody>\n",
       "</table>\n",
       "</div>"
      ],
      "text/plain": [
       "           x         y         word\n",
       "0   7.491768  2.803157      vaccine\n",
       "1   7.572359  3.883797        covid\n",
       "2   6.973493  3.772693            I\n",
       "3   7.841083  4.576263          get\n",
       "4   7.428273  4.106063       people\n",
       "5   7.932818  4.690097    vaccinate\n",
       "6   7.850732  0.905860      covid19\n",
       "7   7.721835  2.067945  vaccination\n",
       "8   8.780031  2.476595        death\n",
       "9   6.199559  2.122953          say\n",
       "10  7.812117  3.066058         take\n",
       "11  6.852992  3.387032         know\n",
       "12  6.296440  2.891533           go\n",
       "13  6.381629  3.275604          one\n",
       "14  6.239661  2.118255          amp\n",
       "15  8.400916  4.427674          die\n",
       "16  7.448283  4.277155        still\n",
       "17  6.480803  2.525478         like\n",
       "18  8.423186  4.167449         mask\n",
       "19  6.762319  3.419173        would"
      ]
     },
     "execution_count": 164,
     "metadata": {},
     "output_type": "execute_result"
    }
   ],
   "source": [
    "pca_top_df = pca_df.loc[pca_df['word'].isin([term[0] for term in Counter(pipe([docs2])[0]).most_common(20)])]\n",
    "pca_top_df"
   ]
  },
  {
   "cell_type": "code",
   "execution_count": 175,
   "id": "eaece379",
   "metadata": {},
   "outputs": [
    {
     "data": {
      "image/png": "[encoded data removed]",
      "text/plain": [
       "<Figure size 432x288 with 1 Axes>"
      ]
     },
     "metadata": {
      "needs_background": "light"
     },
     "output_type": "display_data"
    }
   ],
   "source": [
    "\n",
    "# create a scatter plot of the projection\n",
    "plt.scatter(pca_top_df['x'], pca_top_df['y'])\n",
    "words = pca_top_df['word'].to_list()\n",
    "\n",
    "for i, word in enumerate(words):\n",
    "   plt.annotate(word, xy=(result[i, 0], result[i, 1]))\n",
    "\n",
    "plt.show()"
   ]
  },
  {
   "cell_type": "code",
   "execution_count": null,
   "id": "fdd035d1",
   "metadata": {},
   "outputs": [],
   "source": []
  }
 ],
 "metadata": {
  "kernelspec": {
   "display_name": "Python 3 (ipykernel)",
   "language": "python",
   "name": "python3"
  },
  "language_info": {
   "codemirror_mode": {
    "name": "ipython",
    "version": 3
   },
   "file_extension": ".py",
   "mimetype": "text/x-python",
   "name": "python",
   "nbconvert_exporter": "python",
   "pygments_lexer": "ipython3",
   "version": "3.10.4"
  }
 },
 "nbformat": 4,
 "nbformat_minor": 5
}
